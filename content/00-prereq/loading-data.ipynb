{
  "cells": [
    {
      "cell_type": "markdown",
      "metadata": {
        "id": "view-in-github",
        "colab_type": "text"
      },
      "source": [
        "<a href=\"https://colab.research.google.com/github/hiranyagarbh1/Transperent-ML---Turing/blob/main/content/00-prereq/loading-data.ipynb\" target=\"_parent\"><img src=\"https://colab.research.google.com/assets/colab-badge.svg\" alt=\"Open In Colab\"/></a>"
      ]
    },
    {
      "cell_type": "markdown",
      "metadata": {
        "id": "jWcgiSa2DrAh"
      },
      "source": [
        "# Loading Data\n",
        "\n",
        "```{admonition} Read then Launch\n",
        "This content is best viewed in html because jupyter notebook cannot display some content (e.g. figures, equations) properly. You should finish reading this page first and then launch it as an interactive notebook in Google Colab (faster, Google account needed) or Binder by clicking the rocket symbol (<i class=\"fas fa-rocket\"></i>) at the top.\n",
        "```\n",
        "\n",
        "## Data frame and basic operations\n",
        "\n",
        "In Python, Pandas is a commonly used library to read data from files into data frames. Use the [Auto.csv file](https://github.com/pykale/transparentML/blob/main/data/Auto.csv) (click to open)  as an example. First, take a look at the csv file. There are headers, missing values are marked by '?'. The data is separated by comma. We can use the `read_csv` function to read the csv file into a data frame. The `read_csv` function has many parameters, we can use `?` to get the documentation of the function.\n",
        "\n",
        "The following code loads libraries needed for this section and shows how to read the csv file [Auto.csv](https://github.com/pykale/transparentML/blob/main/data/Auto.csv) in the textbook into a data frame `auto_df`."
      ]
    },
    {
      "cell_type": "code",
      "execution_count": null,
      "metadata": {
        "id": "tsLEaEkcDrAl"
      },
      "outputs": [],
      "source": [
        "import pandas as pd\n",
        "import urllib\n",
        "from matplotlib import pyplot as plt\n",
        "\n",
        "%matplotlib inline"
      ]
    },
    {
      "cell_type": "code",
      "execution_count": null,
      "metadata": {
        "id": "b6MWfgRcDrAm"
      },
      "outputs": [],
      "source": [
        "data_url = \"https://github.com/pykale/transparentML/raw/main/data/Auto.csv\"\n",
        "auto_df = pd.read_csv(data_url, header=0, na_values=\"?\")"
      ]
    },
    {
      "cell_type": "markdown",
      "metadata": {
        "id": "cSuy3VGiDrAm"
      },
      "source": [
        "The `.head()` method can be used to get the first 5 (by default) rows of the data frame."
      ]
    },
    {
      "cell_type": "code",
      "execution_count": null,
      "metadata": {
        "id": "Qd0RWSZRDrAn"
      },
      "outputs": [],
      "source": [
        "auto_df.head()"
      ]
    },
    {
      "cell_type": "markdown",
      "metadata": {
        "id": "Ce7FJsUNDrAn"
      },
      "source": [
        "The `.describe()` method can get the summary statistics of the data frame. Specify the argument `include` to get the summary statistics of certain variables, e.g. `include = \"all\"` for mixed types, `include = [np.number]` for numerical columns, and `include = [\"O\"]` for objects."
      ]
    },
    {
      "cell_type": "code",
      "execution_count": null,
      "metadata": {
        "id": "HIu5wcUEDrAn"
      },
      "outputs": [],
      "source": [
        "auto_df.describe()"
      ]
    },
    {
      "cell_type": "code",
      "execution_count": null,
      "metadata": {
        "id": "cSWfuYuhDrAn"
      },
      "outputs": [],
      "source": [
        "auto_df.describe(include=\"all\")"
      ]
    },
    {
      "cell_type": "markdown",
      "metadata": {
        "id": "I5r5D1-CDrAo"
      },
      "source": [
        "The dimension of a data frame can be found out by the same `.shape()` method as in `numpy` arrays."
      ]
    },
    {
      "cell_type": "code",
      "execution_count": null,
      "metadata": {
        "id": "d7a1VupPDrAo"
      },
      "outputs": [],
      "source": [
        "auto_df.shape"
      ]
    },
    {
      "cell_type": "markdown",
      "metadata": {
        "id": "jsMIv116DrAo"
      },
      "source": [
        "Indexing in Pandas data frame is similar to indexing in `numpy` arrays. A row, a column, or a submatrix can be accessed by the `.iloc[]` or `.loc[]` method. `iloc` is used to index by position, and `loc` is used to index by labels (row and column names)."
      ]
    },
    {
      "cell_type": "code",
      "execution_count": null,
      "metadata": {
        "id": "vPWGOl4DDrAo"
      },
      "outputs": [],
      "source": [
        "auto_df.iloc[:4, :2]"
      ]
    },
    {
      "cell_type": "code",
      "execution_count": null,
      "metadata": {
        "id": "TgnXONLDDrAo"
      },
      "outputs": [],
      "source": [
        "auto_df.loc[[0, 1, 2, 3], [\"mpg\", \"cylinders\"]]"
      ]
    },
    {
      "cell_type": "markdown",
      "metadata": {
        "id": "VMT-Npd8DrAp"
      },
      "source": [
        "There is an alternative way to select the first 4 rows."
      ]
    },
    {
      "cell_type": "code",
      "execution_count": null,
      "metadata": {
        "id": "xygS3L-BDrAp"
      },
      "outputs": [],
      "source": [
        "auto_df[:4]"
      ]
    },
    {
      "cell_type": "markdown",
      "metadata": {
        "id": "2cKe09rjDrAp"
      },
      "source": [
        "The column names can be found out by the `list` function or the `.columns` attribute."
      ]
    },
    {
      "cell_type": "code",
      "execution_count": null,
      "metadata": {
        "id": "qQl0erh4DrAp"
      },
      "outputs": [],
      "source": [
        "print(list(auto_df))\n",
        "print(auto_df.columns)"
      ]
    },
    {
      "cell_type": "markdown",
      "metadata": {
        "id": "isBApLNFDrAp"
      },
      "source": [
        "`.isnull()` and `.sum()` methods can be used to find out how many `NaN`s in each variables."
      ]
    },
    {
      "cell_type": "code",
      "execution_count": null,
      "metadata": {
        "id": "gfeaf7QJDrAp"
      },
      "outputs": [],
      "source": [
        "auto_df.isnull().sum()"
      ]
    },
    {
      "cell_type": "code",
      "execution_count": null,
      "metadata": {
        "id": "I2hFlIKeDrAp"
      },
      "outputs": [],
      "source": [
        "# after the previous steps, there are 397 obs in the data and only 5 with missing values. We can just drop the ones with missing values\n",
        "print(auto_df.shape)\n",
        "auto_df = auto_df.dropna()\n",
        "print(auto_df.shape)"
      ]
    },
    {
      "cell_type": "markdown",
      "metadata": {
        "id": "cSW9fNV3DrAp"
      },
      "source": [
        "The type of variable(s) can be changed. The following example will change the cylinders into categorical variable"
      ]
    },
    {
      "cell_type": "code",
      "execution_count": null,
      "metadata": {
        "id": "KGfy94FEDrAp"
      },
      "outputs": [],
      "source": [
        "auto_df[\"cylinders\"] = auto_df[\"cylinders\"].astype(\"category\")"
      ]
    },
    {
      "cell_type": "markdown",
      "metadata": {
        "id": "XkFUjaO-DrAp"
      },
      "source": [
        "### Visualising data\n",
        "\n",
        "Refer to a column of data frame by name using `.column_name`. See the options in `plt.plot` for more."
      ]
    },
    {
      "cell_type": "code",
      "execution_count": null,
      "metadata": {
        "id": "lqjAYrDwDrAp"
      },
      "outputs": [],
      "source": [
        "plt.plot(auto_df.cylinders, auto_df.mpg, \"ro\")\n",
        "plt.show()"
      ]
    },
    {
      "cell_type": "markdown",
      "metadata": {
        "id": "-ZJG9Wb7DrAq"
      },
      "source": [
        "The `.hist()` method can get the [histogram](https://en.wikipedia.org/wiki/Histogram) of certain variables. Specify the argument `column` to get the histogram of a certain variable."
      ]
    },
    {
      "cell_type": "code",
      "execution_count": null,
      "metadata": {
        "id": "zj7zCNY7DrAq"
      },
      "outputs": [],
      "source": [
        "auto_df.hist(column=[\"cylinders\", \"mpg\"])\n",
        "plt.show()"
      ]
    },
    {
      "cell_type": "markdown",
      "metadata": {
        "id": "Tb0R2tmqDrAq"
      },
      "source": [
        "\n",
        "## Exercises"
      ]
    },
    {
      "cell_type": "markdown",
      "metadata": {
        "id": "o6JMy4FJDrAq"
      },
      "source": [
        "**1**. This exercise is related to the **[College](https://github.com/pykale/transparentML/blob/main/data/College.csv)** dataset. It contains a number of features for $777$ different universities and colleges in the US.\n",
        "\n",
        "   **a**. Use the **read_csv()** function to read the data and print the first $20$ rows of the loaded data. Make sure that you have the directory set to the correct **location** for the data."
      ]
    },
    {
      "cell_type": "code",
      "execution_count": null,
      "metadata": {
        "id": "bul3tH2WDrAq"
      },
      "outputs": [],
      "source": [
        "# Write your code below to answer the question"
      ]
    },
    {
      "cell_type": "markdown",
      "metadata": {
        "id": "hUPQ0lK6DrAq"
      },
      "source": [
        "*Compare your answer with the reference solution below*"
      ]
    },
    {
      "cell_type": "code",
      "execution_count": null,
      "metadata": {
        "tags": [
          "hide-cell"
        ],
        "id": "eUVKt30JDrAq"
      },
      "outputs": [],
      "source": [
        "import pandas as pd\n",
        "\n",
        "data_url = \"https://github.com/pykale/transparentML/raw/main/data/College.csv\"\n",
        "college_df = pd.read_csv(data_url, header=0)\n",
        "college_df.head(20)"
      ]
    },
    {
      "cell_type": "markdown",
      "metadata": {
        "id": "Uow6_Q42DrAq"
      },
      "source": [
        "**b**. Find the number of **variables/features** in the dataset and print them."
      ]
    },
    {
      "cell_type": "code",
      "execution_count": null,
      "metadata": {
        "id": "R3c4ezMdDrAq"
      },
      "outputs": [],
      "source": [
        "# Write your code below to answer the question"
      ]
    },
    {
      "cell_type": "markdown",
      "metadata": {
        "id": "vaPelrQWDrAq"
      },
      "source": [
        "*Compare your answer with the reference solution below*"
      ]
    },
    {
      "cell_type": "code",
      "execution_count": null,
      "metadata": {
        "tags": [
          "hide-cell"
        ],
        "id": "8CACZLtuDrAq"
      },
      "outputs": [],
      "source": [
        "print(\"Number of features in this dataset is \", college_df.shape[1])\n",
        "print(\"The list of the features = \", list(college_df))"
      ]
    },
    {
      "cell_type": "markdown",
      "metadata": {
        "id": "v85h_UFNDrAq"
      },
      "source": [
        "**c**. Use the **describe()** function to get a statistical summary of the **variables/features** of the dataset."
      ]
    },
    {
      "cell_type": "code",
      "execution_count": null,
      "metadata": {
        "id": "bbBylGPgDrAq"
      },
      "outputs": [],
      "source": [
        "# Write your code below to answer the question"
      ]
    },
    {
      "cell_type": "markdown",
      "metadata": {
        "id": "twVXgg6DDrAq"
      },
      "source": [
        "*Compare your answer with the reference solution below*"
      ]
    },
    {
      "cell_type": "code",
      "execution_count": null,
      "metadata": {
        "tags": [
          "hide-cell"
        ],
        "id": "rWgTxAlUDrAq"
      },
      "outputs": [],
      "source": [
        "college_df.describe()\n",
        "\n",
        "# From the statistical summary, we know how much data is present for each feature, each feature's mean and standard deviation, and the maximum and minimum value of each feature."
      ]
    },
    {
      "cell_type": "markdown",
      "metadata": {
        "id": "DvJ9aDQCDrAu"
      },
      "source": [
        "**d.** Now, produce a side-by-side **boxplots** of **Outstate** versus **Private**."
      ]
    },
    {
      "cell_type": "code",
      "execution_count": null,
      "metadata": {
        "id": "OtF22P3uDrAu"
      },
      "outputs": [],
      "source": [
        "# Write your code below to answer the question"
      ]
    },
    {
      "cell_type": "markdown",
      "metadata": {
        "id": "b6EBgtNqDrAv"
      },
      "source": [
        "*Compare your answer with the reference solution below*"
      ]
    },
    {
      "cell_type": "code",
      "execution_count": null,
      "metadata": {
        "tags": [
          "hide-cell"
        ],
        "id": "RpNMrN3WDrAw"
      },
      "outputs": [],
      "source": [
        "import seaborn as sns\n",
        "\n",
        "sns.boxplot(x=college_df[\"Private\"], y=college_df[\"Outstate\"])\n",
        "\n",
        "# From the box plot, we can state that for an outstate range of 9000 to 13500, we can get Private = Yes, and for the range from 5500 to 7500, we get Private = No."
      ]
    },
    {
      "cell_type": "markdown",
      "metadata": {
        "id": "0URlHGhkDrAw"
      },
      "source": [
        "**e**. How many **quantitative** and **qualitative** features are there in this dataset?"
      ]
    },
    {
      "cell_type": "code",
      "execution_count": null,
      "metadata": {
        "id": "7BqlU07PDrAw"
      },
      "outputs": [],
      "source": [
        "# Write your code below to answer the question"
      ]
    },
    {
      "cell_type": "markdown",
      "metadata": {
        "id": "cYGI-ULBDrAw"
      },
      "source": [
        "*Compare your answer with the reference solution below*"
      ]
    },
    {
      "cell_type": "code",
      "execution_count": null,
      "metadata": {
        "tags": [
          "hide-cell"
        ],
        "id": "XcAbqaU9DrAw"
      },
      "outputs": [],
      "source": [
        "import numpy as np\n",
        "\n",
        "print(\n",
        "    \"The number of quantitative features in this dataset is %d and the number of qualitative features in this dataset is %d.\"\n",
        "    % (\n",
        "        college_df.select_dtypes(include=np.number).shape[1],\n",
        "        college_df.select_dtypes(include=object).shape[1],\n",
        "    )\n",
        ")"
      ]
    },
    {
      "cell_type": "markdown",
      "metadata": {
        "id": "-3CaSSsRDrAw"
      },
      "source": [
        "**f**. Create a new **qualitative** variable, called **Elite**, by binning the **Top10perc** variable. We are going to divide universities into **two groups** based on whether or not the proportion of students coming from the top $10$% of their high school classes exceeds $50$%. Now see how many **elite universities** there are."
      ]
    },
    {
      "cell_type": "code",
      "execution_count": null,
      "metadata": {
        "id": "DGjTrmJUDrAw"
      },
      "outputs": [],
      "source": [
        "# Write your code below to answer the question"
      ]
    },
    {
      "cell_type": "markdown",
      "metadata": {
        "id": "U0575uf3DrAw"
      },
      "source": [
        "*Compare your answer with the reference solution below*"
      ]
    },
    {
      "cell_type": "code",
      "execution_count": null,
      "metadata": {
        "tags": [
          "hide-cell"
        ],
        "id": "AlDqy-vsDrAw"
      },
      "outputs": [],
      "source": [
        "college_df[\"Elite\"] = college_df[\"Top10perc\"] > 50\n",
        "college_df[\"Elite\"].sum()"
      ]
    },
    {
      "cell_type": "markdown",
      "metadata": {
        "id": "A_vkg1M1DrAw"
      },
      "source": [
        "**e**. Use the **hist()** function to produce **histogram** of any $4$ **variables/features** from the dataset chosen by you."
      ]
    },
    {
      "cell_type": "code",
      "execution_count": null,
      "metadata": {
        "id": "Yd_IjXlODrAw"
      },
      "outputs": [],
      "source": [
        "# Write your code below to answer the question"
      ]
    },
    {
      "cell_type": "markdown",
      "metadata": {
        "id": "5-bb7uVXDrAw"
      },
      "source": [
        "*Compare your answer with the reference solution below*"
      ]
    },
    {
      "cell_type": "code",
      "execution_count": null,
      "metadata": {
        "tags": [
          "hide-cell"
        ],
        "id": "B7E11ivbDrAx"
      },
      "outputs": [],
      "source": [
        "from matplotlib import pyplot as plt\n",
        "\n",
        "college_df.hist(column=[\"Accept\", \"Books\", \"Grad.Rate\", \"Enroll\"])\n",
        "plt.show()\n",
        "\n",
        "# We chose Accept, Books, Grad.Rate and Enroll features where the count for every features value is shown with a histogram which indicates the most frequent values for every feature."
      ]
    },
    {
      "cell_type": "markdown",
      "metadata": {
        "id": "sbtQyHM7DrAx"
      },
      "source": [
        "**f**. Continue exploring the data, and provide a **brief summary** of what you discover."
      ]
    },
    {
      "cell_type": "code",
      "execution_count": null,
      "metadata": {
        "id": "uGnoaHQNDrAx"
      },
      "outputs": [],
      "source": [
        "# Write your code below to continue exploring the data"
      ]
    }
  ],
  "metadata": {
    "kernelspec": {
      "display_name": "Python 3 (ipykernel)",
      "language": "python",
      "name": "python3"
    },
    "colab": {
      "provenance": [],
      "include_colab_link": true
    }
  },
  "nbformat": 4,
  "nbformat_minor": 0
}