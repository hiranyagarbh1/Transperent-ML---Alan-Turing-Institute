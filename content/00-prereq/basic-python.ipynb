{
  "cells": [
    {
      "cell_type": "markdown",
      "metadata": {
        "id": "view-in-github",
        "colab_type": "text"
      },
      "source": [
        "<a href=\"https://colab.research.google.com/github/hiranyagarbh1/Transperent-ML---Turing/blob/main/content/00-prereq/basic-python.ipynb\" target=\"_parent\"><img src=\"https://colab.research.google.com/assets/colab-badge.svg\" alt=\"Open In Colab\"/></a>"
      ]
    },
    {
      "cell_type": "markdown",
      "metadata": {
        "id": "ZSslNg8TdRhG"
      },
      "source": [
        "# Basic python programming\n",
        "\n",
        "**Running**\n",
        "\n",
        "Following the .gif below, click the rocket symbol (<i class=\"fas fa-rocket\"></i>) to launch this page as an interactive notebook in Google Colab (faster but requiring a Google account) or Binder.\n",
        "\n",
        "\n",
        "![Alt Text](https://source-separation.github.io/tutorial/_images/run_cloud.gif)\n",
        "<!--\n",
        "https://youtu.be/seKOq-VMJgY?t=1082 -->\n",
        "\n",
        "In Google Colab, click `Runtime` -> `Run all` to run all the cells in the notebook. In Binder, click `Cell` -> `Run All` to run all the cells in the notebook.\n",
        "\n",
        "\n",
        "## Variable and expressions\n",
        "\n",
        "### Creating variables\n",
        "\n",
        "- In Python, variables are names to store values.\n",
        "- The `=` symbol assigns the value on the right to the name on the left.\n",
        "- The variable is created when a value is assigned to it.    \n",
        "- Variable Naming ([click to learn more about Python naming convention](https://namingconvention.org/python/))\n",
        "  - can only contain letters, digits, and underscore _ (typically used to separate words in long variable names)\n",
        "  - cannot start with a digit\n",
        "  - are case sensitive (age, Age and AGE are three different variables)\n",
        "\n",
        "Try the following code in the cell below to assign `1` to a variable `x` and `\"hello world\"` to a variable `string_varible`:"
      ]
    },
    {
      "cell_type": "markdown",
      "metadata": {
        "id": "ZLcPH_iIdRhK"
      },
      "source": [
        "<!-- $$\n",
        "  \\mathbf{x} = \\begin{bmatrix} x_1 \\\\ x_2 \\\\\\vdots\\\\ x_n \\end{bmatrix}.\n",
        "$$ -->"
      ]
    },
    {
      "cell_type": "code",
      "execution_count": null,
      "metadata": {
        "tags": [
          "hide-output"
        ],
        "id": "SNlcfxTMdRhL"
      },
      "outputs": [],
      "source": [
        "x = 1\n",
        "string_variable = \"Hello world\""
      ]
    },
    {
      "cell_type": "markdown",
      "metadata": {
        "id": "dVLDaPK7dRhM"
      },
      "source": [
        "```{Note}\n",
        "Variables must be created before they are used. If a variable doesn't exist yet, or if the name has been mis-spelled, Python reports an error.\n",
        "```\n",
        "\n",
        "```{warning}\n",
        "Some variable names are reserved for special use in Python. For example, `print` is a function that prints the value of a variable. If you try to use `print` as a variable name, Python will report an error.\n",
        "```\n",
        "\n",
        "Run the following code to see the full list of reserved words in Python:"
      ]
    },
    {
      "cell_type": "code",
      "execution_count": null,
      "metadata": {
        "id": "5VNoHhD8dRhN"
      },
      "outputs": [],
      "source": [
        "import keyword\n",
        "\n",
        "keyword.kwlist"
      ]
    },
    {
      "cell_type": "markdown",
      "metadata": {
        "id": "VmsnsWbddRhN"
      },
      "source": [
        "#### For loop and if statement\n",
        "\n",
        "- `for` loop is used to iterate over a sequence (e.g. a string) or other iterable objects.\n",
        "\n",
        "**Example**\n",
        "\n",
        "Display the characters in the string `\"Hello world\"`:"
      ]
    },
    {
      "cell_type": "code",
      "execution_count": null,
      "metadata": {
        "tags": [
          "hide-output"
        ],
        "id": "ysKpKPjHdRhN"
      },
      "outputs": [],
      "source": [
        "for character in string_variable:\n",
        "    print(character)"
      ]
    },
    {
      "cell_type": "markdown",
      "metadata": {
        "id": "RIl6nUhgdRhN"
      },
      "source": [
        "- `if` statement is used to execute a block of code if a specified condition is true.\n",
        "- `elif` is used to check another condition if the first condition is false.\n",
        "- `else` is used to execute a block of code if all conditions are false.\n",
        "\n",
        "**Examples**\n",
        "\n",
        "1. `if` ... `else` statement"
      ]
    },
    {
      "cell_type": "code",
      "execution_count": null,
      "metadata": {
        "id": "uyD-uSPIdRhO"
      },
      "outputs": [],
      "source": [
        "# check an input number is non-negative or negative\n",
        "\n",
        "num = 3\n",
        "\n",
        "# Try these two variations as well.\n",
        "# num = -5\n",
        "# num = 0\n",
        "\n",
        "if num >= 0:\n",
        "    print(\"{} is a non-negative number\".format(num))\n",
        "else:\n",
        "    print(\"{} is a negative number\".format(num))"
      ]
    },
    {
      "cell_type": "markdown",
      "metadata": {
        "id": "W58tbDOkdRhO"
      },
      "source": [
        "2. `if` ... `elif` ... `else` statement"
      ]
    },
    {
      "cell_type": "code",
      "execution_count": null,
      "metadata": {
        "id": "s4O7MtVndRhO"
      },
      "outputs": [],
      "source": [
        "# check an input number is positive, negative, or zero\n",
        "\n",
        "num = 3.14\n",
        "\n",
        "# Try these two variations as well:\n",
        "# num = 0\n",
        "# num = -2.5\n",
        "\n",
        "if num > 0:\n",
        "    print(\"{} is a positive number\".format(num))\n",
        "elif num == 0:\n",
        "    print(\"The input number is zero\")\n",
        "else:\n",
        "    print(\"{} is a negative number\".format(num))"
      ]
    },
    {
      "cell_type": "markdown",
      "metadata": {
        "id": "VxHsqk_ldRhP"
      },
      "source": [
        "### Built-in functions\n",
        "\n",
        "There are many built-in functions in Python. For example, the `print` function has been used in the above section. This section introduces some common built-in functions:\n",
        "\n",
        "\n",
        "**Print**\n",
        "\n",
        "- `print` displays the value of an expression.\n",
        "- Provide values to the function (i.e., the things to print) in parentheses."
      ]
    },
    {
      "cell_type": "code",
      "execution_count": null,
      "metadata": {
        "id": "aBXq3JX4dRhP"
      },
      "outputs": [],
      "source": [
        "print(\"Value of the string variable is \", string_variable)\n",
        "print(\"The first character of the string variable is \", string_variable[0])\n",
        "print(\"The first five characters of the string variable are \", string_variable[:5])\n",
        "print(x, \"+ 1 =\", x + 1)"
      ]
    },
    {
      "cell_type": "markdown",
      "metadata": {
        "id": "T4PWofHJdRhP"
      },
      "source": [
        "**Type**\n",
        "\n",
        "- The `type` function returns the type of an expression."
      ]
    },
    {
      "cell_type": "code",
      "execution_count": null,
      "metadata": {
        "id": "o4kEfhPSdRhP"
      },
      "outputs": [],
      "source": [
        "type(string_variable)"
      ]
    },
    {
      "cell_type": "code",
      "execution_count": null,
      "metadata": {
        "id": "tq-tD_rMdRhP"
      },
      "outputs": [],
      "source": [
        "type(x)"
      ]
    },
    {
      "cell_type": "markdown",
      "metadata": {
        "id": "yqAPJiUddRhP"
      },
      "source": [
        "**Length**\n",
        "\n",
        "- The `len` function returns the length of a string, or the number of elements in other type of variables, such as a list and tuple."
      ]
    },
    {
      "cell_type": "code",
      "execution_count": null,
      "metadata": {
        "id": "O-ELsiC6dRhP"
      },
      "outputs": [],
      "source": [
        "print(len(string_variable))"
      ]
    },
    {
      "cell_type": "markdown",
      "metadata": {
        "id": "wWmFP4VSdRhQ"
      },
      "source": [
        "**Range**\n",
        "\n",
        "- The `range` function returns a sequence of numbers."
      ]
    },
    {
      "cell_type": "code",
      "execution_count": null,
      "metadata": {
        "id": "2wPA-_3GdRhQ"
      },
      "outputs": [],
      "source": [
        "for i in range(3):\n",
        "    print(\"loop: \", i)"
      ]
    },
    {
      "cell_type": "markdown",
      "metadata": {
        "id": "fLQu-KXIdRhQ"
      },
      "source": [
        "### Variable types\n",
        "\n",
        "- _Numbers_\n",
        "\n",
        "   - Integers (e.g. `1`, `2`, `3`) and floating point numbers (e.g. `1.0`, `2.5`, `3.14159`) are the two main numeric types in Python."
      ]
    },
    {
      "cell_type": "code",
      "execution_count": null,
      "metadata": {
        "id": "9jvXpn63dRhQ"
      },
      "outputs": [],
      "source": [
        "y = 1\n",
        "z = 3.14\n",
        "print(type(y))\n",
        "print(type(z))"
      ]
    },
    {
      "cell_type": "markdown",
      "metadata": {
        "id": "dzvGXzKTdRhQ"
      },
      "source": [
        "- _Strings_\n",
        "\n",
        "   - Strings are sequences of characters.\n",
        "   - Strings are created by enclosing characters in single quotes (`'...'`) or double quotes (`\"...\"`).\n",
        "   - Strings can be concatenated (glued together) with the `+` operator, and repeated with `*`."
      ]
    },
    {
      "cell_type": "code",
      "execution_count": null,
      "metadata": {
        "id": "hsHXePuwdRhQ"
      },
      "outputs": [],
      "source": [
        "print(string_variable + \" \" + \"Python is fun!\")"
      ]
    },
    {
      "cell_type": "code",
      "execution_count": null,
      "metadata": {
        "id": "ZnAD0BWydRhQ"
      },
      "outputs": [],
      "source": [
        "print(3 * string_variable)"
      ]
    },
    {
      "cell_type": "markdown",
      "metadata": {
        "id": "UEEs4dOMdRhQ"
      },
      "source": [
        "- _Booleans_\n",
        "\n",
        "   - Booleans are either `True` or `False`.\n",
        "   - Booleans are often used in `if` statements to control the flow of a program, or used in `while` or `for` loops to control the number of times a loop is executed."
      ]
    },
    {
      "cell_type": "code",
      "execution_count": null,
      "metadata": {
        "id": "ALmSwGmndRhQ"
      },
      "outputs": [],
      "source": [
        "create_int_variable = True\n",
        "if create_int_variable:\n",
        "    new_int_variable = 123\n",
        "\n",
        "print(new_int_variable)"
      ]
    },
    {
      "cell_type": "markdown",
      "metadata": {
        "id": "m50FS6gydRhQ"
      },
      "source": [
        "- _None_\n",
        "\n",
        "   - `None` is a special value that represents the absence of a value.\n",
        "   - `None` is the only value of the type `NoneType`.\n",
        "   - `None` is frequently used to represent the absence of a value, as when default arguments are not passed to a function.\n",
        "   - `None` is also frequently returned by functions that don't explicitly return anything in order to explicitly signal the absence of a return value.\n",
        "   - `None` is a singleton object, there is only one `None` object and it is unique.\n",
        "   - `None` is immutable, it cannot be changed in any way.\n",
        "   - `None` is comparable to any other object using the `is` operator, but it is never equal to any other object using the `==` operator."
      ]
    },
    {
      "cell_type": "code",
      "execution_count": null,
      "metadata": {
        "id": "AgaQKjErdRhR"
      },
      "outputs": [],
      "source": [
        "none_variable = None\n",
        "print(none_variable is None)\n",
        "\n",
        "print(type(none_variable))"
      ]
    },
    {
      "cell_type": "markdown",
      "metadata": {
        "id": "zfZwOLc7dRhR"
      },
      "source": [
        "- _Lists_\n",
        "   - Lists are ordered sequences of values.\n",
        "   - Lists are created by enclosing values in square brackets (`[...]`).\n",
        "   - Lists can contain values of different types.\n",
        "   - Lists can be indexed, sliced, and nested.\n",
        "   - Lists are mutable and dynamic."
      ]
    },
    {
      "cell_type": "code",
      "execution_count": null,
      "metadata": {
        "id": "SbfAdkRYdRhR"
      },
      "outputs": [],
      "source": [
        "new_list = [1, 2, 3, 4, 5, None]"
      ]
    },
    {
      "cell_type": "markdown",
      "metadata": {
        "id": "vkE-rUWodRhR"
      },
      "source": [
        "Using the `append()` method can append an element to the end of the list."
      ]
    },
    {
      "cell_type": "code",
      "execution_count": null,
      "metadata": {
        "id": "NrNU-79pdRhR"
      },
      "outputs": [],
      "source": [
        "new_list.append(\"Hello world\")\n",
        "print(new_list)"
      ]
    },
    {
      "cell_type": "markdown",
      "metadata": {
        "id": "iaY4zqV2dRhR"
      },
      "source": [
        "- _Dictionaries_\n",
        "   - Dictionaries are unordered sets of key: value pairs, and created by enclosing pairs in curly braces (`{...}`).\n",
        "   - Dictionaries can contain values of different types.\n",
        "   - Dictionaries are indexed by keys, which can be any immutable type; strings and numbers can always be keys.\n",
        "   - Dictionaries are mutable and dynamic.\n",
        "   - Dictionaries have no concept of order among elements.\n",
        "   - Dictionaries are sometimes found in other programming languages as “associative memories”, “associative arrays”, “associative lists”,“hashes”, “hash tables”, or “maps”."
      ]
    },
    {
      "cell_type": "markdown",
      "metadata": {
        "id": "ed_R0TradRhR"
      },
      "source": [
        "- _Tuples_\n",
        "   - Tuples are ordered sequences of values.\n",
        "   - Tuples are created by enclosing values in parentheses (`(...)`).\n",
        "   - Tuples can contain values of different types.\n",
        "   - Tuples can be indexed and sliced.\n",
        "   - Tuples are immutable and dynamic.\n",
        "\n",
        "In this course, tuples are usually used to represent the shapes of vectors and matrices."
      ]
    },
    {
      "cell_type": "code",
      "execution_count": null,
      "metadata": {
        "id": "hJgbx4FNdRhR"
      },
      "outputs": [],
      "source": [
        "new_tuple = (3, 4)\n",
        "\n",
        "type(new_tuple)"
      ]
    },
    {
      "cell_type": "markdown",
      "metadata": {
        "id": "Bp-ZbAMIdRhR"
      },
      "source": [
        "- _Type conversion_\n",
        "\n",
        "   - Python can convert values from one type to another.\n",
        "   - This is called type conversion, and is sometimes also called type casting.\n",
        "   - The syntax for type conversion is to use the type name as a function.\n",
        "   - For example, `int(\"32\")` converts the string `32` to an integer, and `float(32)` converts the integer `32` to a floating-point number.\n",
        "   - Type conversion can also be done with the built-in functions `str()`, `int()`, and `float()`."
      ]
    },
    {
      "cell_type": "code",
      "execution_count": null,
      "metadata": {
        "id": "iU5__wuudRhS"
      },
      "outputs": [],
      "source": [
        "a = 1\n",
        "\n",
        "print(a, type(a))\n",
        "\n",
        "print(float(a), type(float(a)))\n",
        "\n",
        "print(str(a), type(str(a)))"
      ]
    },
    {
      "cell_type": "markdown",
      "metadata": {
        "id": "FyRSLlFDdRhS"
      },
      "source": [
        "### Indexing and slicing\n",
        "\n",
        "Indexing is used to access a single element of a sequence (e.g. a string, a list, or a tuple).\n",
        "\n",
        "- Each position in the string (first, second, etc.) is given a number. This number is called an index or sometimes a subscript.\n",
        "- Indices are numbered from 0.\n",
        "- Use the position’s index in square brackets to get the character at that position."
      ]
    },
    {
      "cell_type": "code",
      "execution_count": null,
      "metadata": {
        "id": "-opmfZd9dRhV"
      },
      "outputs": [],
      "source": [
        "print(string_variable[0])"
      ]
    },
    {
      "cell_type": "markdown",
      "metadata": {
        "id": "f1yaIe-SdRhW"
      },
      "source": [
        "Index value can be negative, which counts from the right. For example, the index value `-1` refers to the last character in the string, `-2` refers to the second-last character, and so on. See the following example to get the last element of a list:"
      ]
    },
    {
      "cell_type": "code",
      "execution_count": null,
      "metadata": {
        "id": "uo9me7TldRhW"
      },
      "outputs": [],
      "source": [
        "print(new_list[-1])"
      ]
    },
    {
      "cell_type": "markdown",
      "metadata": {
        "id": "JwsnlZI0dRhW"
      },
      "source": [
        "```{Note}\n",
        "In python, the index starts from 0, not 1.\n",
        "```"
      ]
    },
    {
      "cell_type": "markdown",
      "metadata": {
        "id": "38FNcfJKdRhW"
      },
      "source": [
        "Slicing is used to access a subsequence of a sequence.\n",
        "- A part of a string is called a substring. A substring can be as short as a single character.\n",
        "- An item in a list is called an element. Whenever we treat a string as if it were a list, the string’s elements are its individual characters.\n",
        "- A slice is a part of a string (or, more generally, a part of any list-like thing).\n",
        "- We take a slice with the notation `[start:stop]`, where `start` is the integer index of the first element we want and `stop` is the integer index of the element just after the last element we want.\n",
        "- The difference between `stop` and `start` is the slice’s length.\n",
        "- Taking a slice does not change the contents of the original string. Instead, taking a slice returns a copy of part of the original string."
      ]
    },
    {
      "cell_type": "code",
      "execution_count": null,
      "metadata": {
        "id": "-tH2bED-dRhW"
      },
      "outputs": [],
      "source": [
        "# elements beginning to index 5 (not included)\n",
        "string_variable[:5]"
      ]
    },
    {
      "cell_type": "code",
      "execution_count": null,
      "metadata": {
        "id": "ob1OhPLSdRhW"
      },
      "outputs": [],
      "source": [
        "# elements from index 3 to 5 (not included)\n",
        "string_variable[3:5]"
      ]
    },
    {
      "cell_type": "code",
      "execution_count": null,
      "metadata": {
        "id": "d5qxmjyXdRhW"
      },
      "outputs": [],
      "source": [
        "# elements from index index 6 to end\n",
        "string_variable[6:]"
      ]
    },
    {
      "cell_type": "markdown",
      "metadata": {
        "id": "Yh72D792dRhW"
      },
      "source": [
        "## Calculations\n",
        "\n",
        "Variables can be used in calculations as if they were values"
      ]
    },
    {
      "cell_type": "code",
      "execution_count": null,
      "metadata": {
        "id": "YnVrxfTrdRhW"
      },
      "outputs": [],
      "source": [
        "x + 1"
      ]
    },
    {
      "cell_type": "markdown",
      "metadata": {
        "id": "sCQfWcI5dRhW"
      },
      "source": [
        "## Exercises"
      ]
    },
    {
      "cell_type": "markdown",
      "metadata": {
        "id": "_m8WImhgdRhW"
      },
      "source": [
        "**1**. Create a **list** with values $22$, $55$, $30$, $126$, $198$, and $225$. Write code to only print the numbers which are **divisible** by $5$."
      ]
    },
    {
      "cell_type": "code",
      "execution_count": null,
      "metadata": {
        "id": "Md1YsERMdRhW"
      },
      "outputs": [],
      "source": [
        "# Write your code below to answer the question"
      ]
    },
    {
      "cell_type": "markdown",
      "metadata": {
        "id": "m6-JhnohdRhX"
      },
      "source": [
        "*Compare your answer with the reference solution below*"
      ]
    },
    {
      "cell_type": "code",
      "execution_count": null,
      "metadata": {
        "tags": [
          "hide-cell"
        ],
        "id": "D0cPbjv2dRhX"
      },
      "outputs": [],
      "source": [
        "list_num = [22, 55, 30, 126, 198, 225]\n",
        "for num in list_num:\n",
        "    if num % 5 == 0:\n",
        "        print(num)"
      ]
    },
    {
      "cell_type": "markdown",
      "metadata": {
        "id": "odh83Lc5dRhX"
      },
      "source": [
        "**2**. **Add** the values $33$ and $65$ to the list and **print** all the list values."
      ]
    },
    {
      "cell_type": "code",
      "execution_count": null,
      "metadata": {
        "id": "M1UuVWlDdRhX"
      },
      "outputs": [],
      "source": [
        "# Write your code below to answer the question"
      ]
    },
    {
      "cell_type": "markdown",
      "metadata": {
        "id": "onVYkanUdRhX"
      },
      "source": [
        "*Compare your answer with the reference solution below*"
      ]
    },
    {
      "cell_type": "code",
      "execution_count": null,
      "metadata": {
        "tags": [
          "hide-cell"
        ],
        "id": "LcCjA4IAdRhX"
      },
      "outputs": [],
      "source": [
        "list_num.append(33)\n",
        "list_num.append(65)\n",
        "for num in list_num:\n",
        "    print(num)"
      ]
    },
    {
      "cell_type": "markdown",
      "metadata": {
        "id": "hgxcK6bCdRhX"
      },
      "source": [
        "**3**.\n",
        "   ```\n",
        "       a = 13  \n",
        "       b = 4.76  \n",
        "       c = 'TransparentML'  \n",
        "       d = (2,5,9,14)   \n",
        "       e = [3,4,2]    \n",
        "   ```\n",
        "   Find out each variable types."
      ]
    },
    {
      "cell_type": "code",
      "execution_count": null,
      "metadata": {
        "id": "3B08-FFKdRhX"
      },
      "outputs": [],
      "source": [
        "# Write your code below to answer the question"
      ]
    },
    {
      "cell_type": "markdown",
      "metadata": {
        "id": "w4fHW_4ydRhY"
      },
      "source": [
        "*Compare your answer with the reference solution below*"
      ]
    },
    {
      "cell_type": "code",
      "execution_count": null,
      "metadata": {
        "tags": [
          "hide-cell"
        ],
        "id": "hImpQZ9OdRhY"
      },
      "outputs": [],
      "source": [
        "a = 13\n",
        "b = 4.76\n",
        "c = \"TransparentML\"\n",
        "d = (2, 5, 9, 14)\n",
        "e = [3, 4, 2]\n",
        "\n",
        "print(a, type(a))\n",
        "print(b, type(b))\n",
        "print(c, type(c))\n",
        "print(d, type(d))\n",
        "print(e, type(e))"
      ]
    },
    {
      "cell_type": "markdown",
      "metadata": {
        "id": "SboSQt6OdRhY"
      },
      "source": [
        "**4**. Print the following pattern using **loop**.  \n",
        "          \n",
        "     1   \n",
        "     2 2   \n",
        "     3 3 3   \n",
        "     4 4 4 4   \n",
        "     5 5 5 5 5  "
      ]
    },
    {
      "cell_type": "code",
      "execution_count": null,
      "metadata": {
        "id": "BLONgZLJdRhY"
      },
      "outputs": [],
      "source": [
        "# Write your code below to answer the question"
      ]
    },
    {
      "cell_type": "markdown",
      "metadata": {
        "id": "vTwJ57G5dRhY"
      },
      "source": [
        "*Compare your answer with the reference solution below*"
      ]
    },
    {
      "cell_type": "code",
      "execution_count": null,
      "metadata": {
        "tags": [
          "hide-cell"
        ],
        "id": "5nQpHowddRhZ"
      },
      "outputs": [],
      "source": [
        "for i in range(6):\n",
        "    for j in range(i):\n",
        "        print(i, end=\" \")\n",
        "    print(\"\")"
      ]
    }
  ],
  "metadata": {
    "kernelspec": {
      "display_name": "Python 3 (ipykernel)",
      "language": "python",
      "name": "python3"
    },
    "colab": {
      "provenance": [],
      "include_colab_link": true
    }
  },
  "nbformat": 4,
  "nbformat_minor": 0
}