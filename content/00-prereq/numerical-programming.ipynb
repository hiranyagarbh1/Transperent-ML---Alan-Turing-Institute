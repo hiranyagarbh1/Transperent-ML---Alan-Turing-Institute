{
  "cells": [
    {
      "cell_type": "markdown",
      "metadata": {
        "id": "view-in-github",
        "colab_type": "text"
      },
      "source": [
        "<a href=\"https://colab.research.google.com/github/hiranyagarbh1/Transperent-ML---Turing/blob/main/content/00-prereq/numerical-programming.ipynb\" target=\"_parent\"><img src=\"https://colab.research.google.com/assets/colab-badge.svg\" alt=\"Open In Colab\"/></a>"
      ]
    },
    {
      "cell_type": "markdown",
      "metadata": {
        "id": "ymUKq0P4dn7d"
      },
      "source": [
        "# Numerical programming with `numpy`\n",
        "\n",
        "```{admonition} Read then Launch\n",
        "This content is best viewed in html because jupyter notebook cannot display some content (e.g. figures, equations) properly. You should finish reading this page first and then launch it as an interactive notebook in Google Colab (faster, Google account needed) or Binder by clicking the rocket symbol (<i class=\"fas fa-rocket\"></i>) at the top.\n",
        "```\n",
        "\n",
        "In python, we can use the `numpy` package to perform basic matrix operations. The `numpy` package is a fundamental package for scientific computing with Python. It contains among other things:\n",
        "\n",
        "- A powerful $N$-dimensional array object.\n",
        "- Sophisticated (broadcasting) functions.\n",
        "- A collection of routines for linear algebra, Fourier transform, and random number generation.\n",
        "- A collection of routines for numerical integration and optimisation.\n",
        "- Key tools for working with numerical data in Python.\n",
        "- Support for large, multi-dimensional arrays and matrices.\n",
        "\n",
        "## Creating matrices/arrays\n",
        "\n",
        "Create a matrix using `list`"
      ]
    },
    {
      "cell_type": "code",
      "execution_count": null,
      "metadata": {
        "id": "-GMOFtcOdn7i"
      },
      "outputs": [],
      "source": [
        "# create matrices\n",
        "x = [[1, 2, 3], [4, 5, 6]]\n",
        "print(x)"
      ]
    },
    {
      "cell_type": "markdown",
      "metadata": {
        "id": "Vc74NQoCdn7j"
      },
      "source": [
        "Create an array using `numpy.array`"
      ]
    },
    {
      "cell_type": "code",
      "execution_count": null,
      "metadata": {
        "id": "2DU9eQAndn7k"
      },
      "outputs": [],
      "source": [
        "import numpy as np\n",
        "\n",
        "# create an 1D array\n",
        "\n",
        "x = np.array([1, 2, 3, 4, 5])\n",
        "print(x)"
      ]
    },
    {
      "cell_type": "markdown",
      "metadata": {
        "id": "doyZXOd9dn7l"
      },
      "source": [
        "The `shape` attribute of an array object returns a tuple consisting of array dimensions. For a matrix with `n` rows and `m` columns, its shape will be `(n,m)`. The length of the shape tuple is therefore the number of axes, `ndim`."
      ]
    },
    {
      "cell_type": "code",
      "execution_count": null,
      "metadata": {
        "id": "ukH9EdzAdn7m"
      },
      "outputs": [],
      "source": [
        "print(x.shape)"
      ]
    },
    {
      "cell_type": "markdown",
      "metadata": {
        "id": "JE0TpFkOdn7m"
      },
      "source": [
        "`np.arange()` is used to create a sequence of numbers. It is similar to the built-in `range()` function, but returns an `ndarray` instead of a list. The arguments are `(start, stop, step)`, which are the same as for `range()`, but it also accepts float arguments. If `step` is not given, it defaults to 1. If `start` is not given, it defaults to 0. If `stop` is not given, it defaults to `start` and `start` is set to 0. Note that `np.arange()` excludes the right end of range specification."
      ]
    },
    {
      "cell_type": "code",
      "execution_count": null,
      "metadata": {
        "id": "xJjim-Cvdn7n"
      },
      "outputs": [],
      "source": [
        "x = np.arange(1, 11)\n",
        "print(x)"
      ]
    },
    {
      "cell_type": "code",
      "execution_count": null,
      "metadata": {
        "id": "azUgUGzNdn7o"
      },
      "outputs": [],
      "source": [
        "# note: np.arange actually can result in unexpected results; check np.arange(0.2, 0.6, 0.4) vs np.arange(0.2, 1.6, 1.4)\n",
        "print(np.arange(0.2, 0.6, 0.4))\n",
        "print(np.arange(0.2, 1.6, 1.4))"
      ]
    },
    {
      "cell_type": "markdown",
      "metadata": {
        "id": "mnunpAbgdn7q"
      },
      "source": [
        "The `reshape()` method can be used to reshape an array."
      ]
    },
    {
      "cell_type": "code",
      "execution_count": null,
      "metadata": {
        "id": "cPLzxKxodn7q"
      },
      "outputs": [],
      "source": [
        "x = np.array([1, 2, 3, 4, 5, 6])\n",
        "print(x)\n",
        "\n",
        "x = np.reshape(x, (2, 3))\n",
        "print(x)"
      ]
    },
    {
      "cell_type": "markdown",
      "metadata": {
        "id": "eTTsZOhzdn7r"
      },
      "source": [
        "Try to run the following cell multiple times, can you get the same output every time?"
      ]
    },
    {
      "cell_type": "code",
      "execution_count": null,
      "metadata": {
        "id": "O0DceALidn7r"
      },
      "outputs": [],
      "source": [
        "# generate random numbers/array/matrices\n",
        "\n",
        "mu, sigma = 0, 1\n",
        "a = np.random.randint(0, 10, 5)\n",
        "b = np.random.random((2, 3))\n",
        "\n",
        "print(a)\n",
        "print(b)\n",
        "\n",
        "x = np.random.normal(mu, sigma, 5)\n",
        "y = x + np.random.normal(20, 0.1, 5)\n",
        "\n",
        "print(x)\n",
        "print(y)"
      ]
    },
    {
      "cell_type": "markdown",
      "metadata": {
        "id": "DxPmdTCvdn7r"
      },
      "source": [
        "Run the following cell multiple times, can you get the same output every time?"
      ]
    },
    {
      "cell_type": "code",
      "execution_count": null,
      "metadata": {
        "id": "PrnzR15ydn7r"
      },
      "outputs": [],
      "source": [
        "np.random.seed(123)\n",
        "\n",
        "print(np.random.normal(mu, sigma, 5))"
      ]
    },
    {
      "cell_type": "markdown",
      "metadata": {
        "id": "4fXXr0Wtdn7s"
      },
      "source": [
        "## Basic matrix operations\n",
        "\n",
        "- Transpose a matrix (array).\n",
        "\n",
        "The `T` attribute or `transpose()` method can be used to transpose an array."
      ]
    },
    {
      "cell_type": "code",
      "execution_count": null,
      "metadata": {
        "id": "mmtl1AU0dn7s"
      },
      "outputs": [],
      "source": [
        "a = np.array([[1, 2], [3, 4]])\n",
        "\n",
        "print(a)\n",
        "\n",
        "print(a.T)\n",
        "\n",
        "print(a.transpose())"
      ]
    },
    {
      "cell_type": "markdown",
      "metadata": {
        "id": "vaJJCZr_dn7s"
      },
      "source": [
        "- Add a scalar to an array, or multiply an array by a scalar."
      ]
    },
    {
      "cell_type": "code",
      "execution_count": null,
      "metadata": {
        "id": "TzTGA5fTdn7s"
      },
      "outputs": [],
      "source": [
        "print(a + 1)\n",
        "print(a - 1)\n",
        "print(a * 2)\n",
        "print(a / 2)"
      ]
    },
    {
      "cell_type": "markdown",
      "metadata": {
        "id": "4A8fAGTHdn7t"
      },
      "source": [
        "- Add or multiply two arrays of the same size element-wise."
      ]
    },
    {
      "cell_type": "code",
      "execution_count": null,
      "metadata": {
        "id": "m80SRuS6dn7t"
      },
      "outputs": [],
      "source": [
        "b = np.array([[5, 6], [7, 8]])\n",
        "\n",
        "print(a + b)\n",
        "\n",
        "print(a * b)\n",
        "\n",
        "print(np.multiply(a, b))"
      ]
    },
    {
      "cell_type": "markdown",
      "metadata": {
        "id": "TbcZO2zHdn7t"
      },
      "source": [
        "- Matrix multiplication."
      ]
    },
    {
      "cell_type": "code",
      "execution_count": null,
      "metadata": {
        "id": "5k__LtHQdn7t"
      },
      "outputs": [],
      "source": [
        "# product of two matrices\n",
        "c = np.array([[1, 2, 3], [4, 5, 6]])\n",
        "\n",
        "print(np.dot(a, c))"
      ]
    },
    {
      "cell_type": "code",
      "execution_count": null,
      "metadata": {
        "id": "hpIfs7kNdn7t"
      },
      "outputs": [],
      "source": [
        "#  product of matrix and vector\n",
        "d = np.array([1, 2])\n",
        "\n",
        "print(np.dot(a, d))"
      ]
    },
    {
      "cell_type": "markdown",
      "metadata": {
        "id": "otROvqvsdn7u"
      },
      "source": [
        "### Statistics with NumPy"
      ]
    },
    {
      "cell_type": "code",
      "execution_count": null,
      "metadata": {
        "id": "z76zyZMQdn7u"
      },
      "outputs": [],
      "source": [
        "x = np.array([1, 2, 3, 4, 5, 6])\n",
        "\n",
        "print(np.sqrt(x))\n",
        "\n",
        "print(x**2)\n",
        "\n",
        "print(np.square(x))"
      ]
    },
    {
      "cell_type": "code",
      "execution_count": null,
      "metadata": {
        "id": "g9TSxem8dn7u"
      },
      "outputs": [],
      "source": [
        "x = np.random.randint(0, 10, 5)\n",
        "\n",
        "print(\"The mean value of the array x is: \", np.mean(x))\n",
        "print(\"The median value of the array x is: \", np.median(x))\n",
        "print(\"The standard deviation of the array x is: \", np.std(x))\n",
        "print(\"The variance of the array x is: \", np.var(x))\n",
        "print(\"The max value of the array x is: \", np.min(x))\n",
        "print(\"The min value of the array x is: \", np.max(x))"
      ]
    },
    {
      "cell_type": "markdown",
      "metadata": {
        "id": "aWXUcsPQdn7u"
      },
      "source": [
        "## Indexing in `NumPy`"
      ]
    },
    {
      "cell_type": "code",
      "execution_count": null,
      "metadata": {
        "id": "Ihqd6E2bdn7u"
      },
      "outputs": [],
      "source": [
        "A = np.arange(1, 17, 1).reshape(4, 4).transpose()\n",
        "print(A)"
      ]
    },
    {
      "cell_type": "markdown",
      "metadata": {
        "id": "R1-wMsFOdn7u"
      },
      "source": [
        "Get an element from a matrix, for example, get the fourth element in the third row (index starts from 0)."
      ]
    },
    {
      "cell_type": "code",
      "execution_count": null,
      "metadata": {
        "id": "vxb9680Ndn7v"
      },
      "outputs": [],
      "source": [
        "print(A[2, 3])"
      ]
    },
    {
      "cell_type": "code",
      "execution_count": null,
      "metadata": {
        "id": "5rdSoDhddn7v"
      },
      "outputs": [],
      "source": [
        "# to select a submatrix, need the non-singleton dimension of your indexing array to be aligned with the axis you're indexing into,\n",
        "# e.g. for an n x m 2D subarray: A[n by 1 array,1 by m array]\n",
        "A[[[0], [2]], [1, 3]]"
      ]
    },
    {
      "cell_type": "markdown",
      "metadata": {
        "id": "d0tgtns_dn7v"
      },
      "source": [
        "Using the `:` operator can get a row or a column."
      ]
    },
    {
      "cell_type": "code",
      "execution_count": null,
      "metadata": {
        "id": "MuuZAZmkdn7v"
      },
      "outputs": [],
      "source": [
        "# the last two examples include either no index for the columns or no index for the rows. These indicate that Python should include all columns or all rows, respectively\n",
        "A[0, :]"
      ]
    },
    {
      "cell_type": "markdown",
      "metadata": {
        "id": "-Kv6XEHCdn7v"
      },
      "source": [
        "The default indexing is row-wise, and therefore the `:` for column can be omitted."
      ]
    },
    {
      "cell_type": "code",
      "execution_count": null,
      "metadata": {
        "id": "dqMXNB2ndn7v"
      },
      "outputs": [],
      "source": [
        "A[0]"
      ]
    },
    {
      "cell_type": "markdown",
      "metadata": {
        "id": "CWeYnqqmdn7w"
      },
      "source": [
        "Using `start:stop;step_size` to get a submatrix.\n",
        "- `start` and `stop` are the indices of the first and last elements of the submatrix, and `step_size` is the step size.\n",
        "- `start` and `stop` can be negative, which means the indices are counted from the right.\n",
        "- `step_size` can be negative, which means the submatrix is reversed.\n",
        "- `start` and `stop` can be omitted, which means the submatrix starts from the first element or ends at the last element.\n",
        "- `step_size` can be omitted, which means the step size is 1."
      ]
    },
    {
      "cell_type": "code",
      "execution_count": null,
      "metadata": {
        "id": "lUkvHN-6dn7w"
      },
      "outputs": [],
      "source": [
        "# this is another way to do that\n",
        "A[0:3:2, 1:4:2]"
      ]
    },
    {
      "cell_type": "code",
      "execution_count": null,
      "metadata": {
        "id": "xu4kJsAjdn7w"
      },
      "outputs": [],
      "source": [
        "# select all columns in those two rows\n",
        "A[0:3:2, :]"
      ]
    },
    {
      "cell_type": "code",
      "execution_count": null,
      "metadata": {
        "id": "Sak1gsE4dn72"
      },
      "outputs": [],
      "source": [
        "# select all row in those two columns\n",
        "A[:, 1:4:2]"
      ]
    },
    {
      "cell_type": "code",
      "execution_count": null,
      "metadata": {
        "id": "ka1X8O73dn72"
      },
      "outputs": [],
      "source": [
        "# '-' sign has a different meaning and good usage in Python. This means index from the end, -1 means the last element\n",
        "A[-1, -1]"
      ]
    },
    {
      "cell_type": "markdown",
      "metadata": {
        "id": "Lx5TeK6Ddn72"
      },
      "source": [
        "Boolean indexing. There are other ways to let Python keep all rows except certain indices."
      ]
    },
    {
      "cell_type": "code",
      "execution_count": null,
      "metadata": {
        "id": "CKwV028Kdn72"
      },
      "outputs": [],
      "source": [
        "# index using a boolean value\n",
        "ind = np.ones((4,), bool)\n",
        "ind[[0, 2]] = False\n",
        "print(ind)"
      ]
    },
    {
      "cell_type": "code",
      "execution_count": null,
      "metadata": {
        "id": "1pUb8p2Wdn73"
      },
      "outputs": [],
      "source": [
        "print(A[ind, :])\n",
        "\n",
        "print(A[ind])"
      ]
    },
    {
      "cell_type": "markdown",
      "metadata": {
        "id": "7DWqtddOdn73"
      },
      "source": [
        "## Exercises"
      ]
    },
    {
      "cell_type": "markdown",
      "metadata": {
        "id": "L60pmIzwdn73"
      },
      "source": [
        "<!-- ## Basic probability and statistics\n",
        "\n",
        "### Probability\n",
        "\n",
        "- Marginal probability\n",
        "- Conditional probability\n",
        "- Joint probability\n",
        "-->\n",
        "\n",
        "**1**. **$A$** = $\\begin{bmatrix} 8 & 5 & 9 \\\\ 7 & 19 & 14 \\end{bmatrix}$;\n",
        "       **$B$** = $ \\begin{bmatrix} 6 & 13 & 15 \\\\ 17 & 22 & 12 \\\\ 0 & 3 & 9 \\end{bmatrix}$\n",
        "\n",
        "  i. $AB$ = ?\n",
        "\n",
        "  ii. $2A$ = ?\n",
        "\n",
        "  iii. $AB + 2A$ = ?\n",
        "  \n",
        "   You have to do it programmatically. Match the result with [Linear Algebra Excercise 2](https://pykale.github.io/transparentML/00-prereq/linear-algebra-and-notations.html#exercises)."
      ]
    },
    {
      "cell_type": "code",
      "execution_count": null,
      "metadata": {
        "id": "owtstYd1dn74"
      },
      "outputs": [],
      "source": [
        "# Write your code below to answer the question"
      ]
    },
    {
      "cell_type": "markdown",
      "metadata": {
        "id": "fZBR-2bQdn74"
      },
      "source": [
        "*Compare your answer with the reference solution below*"
      ]
    },
    {
      "cell_type": "code",
      "execution_count": null,
      "metadata": {
        "tags": [
          "hide-cell"
        ],
        "id": "XYqe38A_dn74"
      },
      "outputs": [],
      "source": [
        "import numpy as np\n",
        "\n",
        "a = np.array([[8, 5, 9], [7, 19, 14]])\n",
        "b = np.array([[6, 13, 15], [17, 22, 12], [0, 3, 9]])\n",
        "\n",
        "print(\"i.\")\n",
        "print(np.dot(a, b))\n",
        "\n",
        "print(\"ii.\")\n",
        "print(2 * a)\n",
        "\n",
        "print(\"iii.\")\n",
        "print(np.dot(a, b) + (2 * a))"
      ]
    },
    {
      "cell_type": "markdown",
      "metadata": {
        "id": "KjNBAAl0dn76"
      },
      "source": [
        "**2**. Create two $3 \\times 3$ matrices using the **NumPy** **random()** function. Output the result of multiplying the $2$ matrices (as a NumPy array). Don't forget to use the **seed()** function to create **reproducible** results."
      ]
    },
    {
      "cell_type": "code",
      "execution_count": null,
      "metadata": {
        "id": "REQ6BfSrdn76"
      },
      "outputs": [],
      "source": [
        "# Write your code below to answer the question"
      ]
    },
    {
      "cell_type": "markdown",
      "metadata": {
        "id": "kABfkvyqdn77"
      },
      "source": [
        "*Compare your answer with the reference solution below*"
      ]
    },
    {
      "cell_type": "code",
      "execution_count": null,
      "metadata": {
        "tags": [
          "hide-cell"
        ],
        "id": "WEZzf6Y7dn77"
      },
      "outputs": [],
      "source": [
        "import numpy as np\n",
        "\n",
        "np.random.seed(123)\n",
        "x = np.random.random((3, 3))\n",
        "y = np.random.random((3, 3))\n",
        "\n",
        "print(np.dot(x, y))"
      ]
    }
  ],
  "metadata": {
    "kernelspec": {
      "display_name": "Python 3 (ipykernel)",
      "language": "python",
      "name": "python3"
    },
    "colab": {
      "provenance": [],
      "include_colab_link": true
    }
  },
  "nbformat": 4,
  "nbformat_minor": 0
}